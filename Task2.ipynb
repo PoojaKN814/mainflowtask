{
 "cells": [
  {
   "cell_type": "code",
   "execution_count": 7,
   "id": "8de35e29-38ab-4ccb-9540-93644880b144",
   "metadata": {},
   "outputs": [
    {
     "name": "stdout",
     "output_type": "stream",
     "text": [
      "True\n",
      "False\n"
     ]
    }
   ],
   "source": [
    "#Task 9: Prime Number \n",
    "import math\n",
    "\n",
    "def is_prime(n):\n",
    "    if n < 2:\n",
    "        return False\n",
    "    for i in range(2, int(math.sqrt(n)) + 1):\n",
    "        if n % i == 0:\n",
    "            return False\n",
    "        return True\n",
    "\n",
    "# Example\n",
    "print(is_prime(7))\n",
    "print(is_prime(10))\n"
   ]
  },
  {
   "cell_type": "code",
   "execution_count": 11,
   "id": "bc2592a2-8056-4af7-91b9-e62d9c2253db",
   "metadata": {},
   "outputs": [
    {
     "name": "stdout",
     "output_type": "stream",
     "text": [
      "The sum of digits in (n) is 10\n"
     ]
    }
   ],
   "source": [
    "#Task 10: Sum of Digits\n",
    "def sum_of_digits(n):\n",
    "    return sum(int(digit) for digit in str(abs(n)))\n",
    "\n",
    "# Example\n",
    "n = 1234\n",
    "print(f\"The sum of digits in (n) is {sum_of_digits(n)}\")"
   ]
  },
  {
   "cell_type": "code",
   "execution_count": 13,
   "id": "0a942d1f-54a8-4212-98f5-abd348b776b5",
   "metadata": {},
   "outputs": [
    {
     "name": "stdout",
     "output_type": "stream",
     "text": [
      "(36, 6)\n",
      "(35, 1)\n"
     ]
    }
   ],
   "source": [
    "#Task 11: LCM and GCD\n",
    "import math \n",
    "def lcm_gcd(a,b):\n",
    "    gcd = math.gcd(a,b)\n",
    "    lcm = (a * b) // gcd\n",
    "    return lcm, gcd\n",
    "\n",
    "# Example\n",
    "print(lcm_gcd(12, 18))\n",
    "print(lcm_gcd(7, 5))\n"
   ]
  },
  {
   "cell_type": "code",
   "execution_count": 15,
   "id": "aab3c831-69f8-4692-b515-f1ae69738c21",
   "metadata": {},
   "outputs": [
    {
     "name": "stdout",
     "output_type": "stream",
     "text": [
      "[4, 3, 2, 1]\n",
      "[9, 8, 7]\n"
     ]
    }
   ],
   "source": [
    "#Task 12: List Reversal\n",
    "def reverse_list(lst):\n",
    "    return lst[::-1]\n",
    "\n",
    "# Example\n",
    "print(reverse_list([1,2,3,4]))\n",
    "print(reverse_list([7,8,9]))\n"
   ]
  },
  {
   "cell_type": "code",
   "execution_count": 18,
   "id": "a1e1d01e-aff9-4367-a678-aa902fd316f5",
   "metadata": {},
   "outputs": [
    {
     "name": "stdout",
     "output_type": "stream",
     "text": [
      "[1, 2, 3, 5, 8]\n"
     ]
    }
   ],
   "source": [
    "#Task 13: Sort a List\n",
    "def bubble_sort(lst):\n",
    "    n = len(lst)\n",
    "    for i in range(n):\n",
    "        for j in range(0, n-i-1):\n",
    "            if lst[j] > lst[j+1]:\n",
    "                lst[j], lst[j+1] = lst[j+1], lst[j]\n",
    "\n",
    "    return lst\n",
    "\n",
    "# Example\n",
    "print(bubble_sort([5, 3, 8, 1, 2]))\n"
   ]
  },
  {
   "cell_type": "code",
   "execution_count": 21,
   "id": "1bb9f820-e8ab-46e6-98b7-f435bc331cdb",
   "metadata": {},
   "outputs": [
    {
     "name": "stdout",
     "output_type": "stream",
     "text": [
      "[1, 2, 3, 4, 5]\n"
     ]
    }
   ],
   "source": [
    "#Task 14: Remove Duplicates\n",
    "def remove_duplicates(lst):\n",
    "    return list(set(lst))\n",
    "\n",
    "#Example\n",
    "print(remove_duplicates([1, 2, 2 , 3, 4, 4, 5]))"
   ]
  },
  {
   "cell_type": "code",
   "execution_count": 23,
   "id": "65a33d03-acb1-456b-bfe8-6c41aa4f406a",
   "metadata": {},
   "outputs": [
    {
     "name": "stdout",
     "output_type": "stream",
     "text": [
      "10\n",
      "6\n"
     ]
    }
   ],
   "source": [
    "#Task 15: string Length\n",
    "def string_length(s):\n",
    "    count = 0 \n",
    "    for _ in s:\n",
    "        count +=1\n",
    "    return count\n",
    "\n",
    "# Example\n",
    "print(string_length(\"HelloWorld\"))\n",
    "print(string_length(\"Python\"))"
   ]
  },
  {
   "cell_type": "code",
   "execution_count": 29,
   "id": "e4af55ff-aa89-459e-be91-463757651f83",
   "metadata": {},
   "outputs": [
    {
     "name": "stdout",
     "output_type": "stream",
     "text": [
      "Vowels: 3, Consonants: 7\n"
     ]
    }
   ],
   "source": [
    "#Task 16: Count Vowels and Consonants\n",
    "def count_vowels_consonants(s):\n",
    "    vowels = set(\"aeiouAEIOU\")\n",
    "    v_count, c_count = 0, 0\n",
    "    for char in s:\n",
    "        if char.isalpha():\n",
    "            if char in vowels:\n",
    "                v_count +=1\n",
    "            else:\n",
    "                 c_count +=1\n",
    "\n",
    "    return v_count, c_count\n",
    "\n",
    "# Example\n",
    "s = \"hello world\"\n",
    "vowels, consonants = count_vowels_consonants(s)\n",
    "print(f\"Vowels: {vowels}, Consonants: {consonants}\")\n"
   ]
  },
  {
   "cell_type": "code",
   "execution_count": 37,
   "id": "54f814a4-d08c-4c23-8697-22966b8518fb",
   "metadata": {},
   "outputs": [
    {
     "name": "stdout",
     "output_type": "stream",
     "text": [
      "███████████\n",
      "█   █     █\n",
      "███ █ ███ █\n",
      "█ █ █ █   █\n",
      "█ █ █ ███ █\n",
      "█ █ █   █ █\n",
      "█ █ █ █ █ █\n",
      "█   █ █ █ █\n",
      "█ █████ █ █\n",
      "█       █ █\n",
      "███████████\n",
      "Solvable? True\n"
     ]
    }
   ],
   "source": [
    "import random\n",
    "\n",
    "def generate_maze(size):\n",
    "    maze = [[1 for _ in range(size)] for _ in range(size)]\n",
    "\n",
    "    def carve_passages(x, y):\n",
    "        directions = [(0, 1), (1, 0), (0, -1), (-1, 0)]\n",
    "        random.shuffle(directions)\n",
    "        for dx, dy in directions:\n",
    "            nx, ny = x + dx * 2, y + dy * 2\n",
    "            if 0 <= nx < size and 0 <= ny < size and maze[ny][nx] == 1:\n",
    "                maze[ny][nx] = 0\n",
    "                maze[y + dy][x + dx] = 0\n",
    "                carve_passages(nx, ny)\n",
    "\n",
    "    maze[1][1] = 0  # Start point\n",
    "    carve_passages(1, 1)\n",
    "    return maze\n",
    "\n",
    "def print_maze(maze):\n",
    "    for row in maze:\n",
    "        print(\"\".join(\"█\" if cell == 1 else \" \" for cell in row))  # Walls as █, paths as space\n",
    "\n",
    "def solve_maze(maze, start, end):\n",
    "    stack = [start]\n",
    "    visited = set()\n",
    "    \n",
    "    while stack:\n",
    "        x, y = stack.pop()\n",
    "        \n",
    "        if (x, y) == end:\n",
    "            return True\n",
    "        \n",
    "        if (x, y) in visited:\n",
    "            continue\n",
    "        \n",
    "        visited.add((x, y))\n",
    "        \n",
    "        for dx, dy in [(0, 1), (1, 0), (0, -1), (-1, 0)]:\n",
    "            nx, ny = x + dx, y + dy\n",
    "            if 0 <= nx < len(maze) and 0 <= ny < len(maze) and maze[ny][nx] == 0:\n",
    "                stack.append((nx, ny))\n",
    "\n",
    "    return False  # Only return False if no path is found\n",
    "\n",
    "# Example\n",
    "size = 11\n",
    "maze = generate_maze(size)\n",
    "print_maze(maze)\n",
    "start, end = (1, 1), (size - 2, size - 2)\n",
    "print(f\"Solvable? {solve_maze(maze, start, end)}\")\n"
   ]
  },
  {
   "cell_type": "code",
   "execution_count": null,
   "id": "5ffcb5a8-c7bf-43f8-a19b-1bee8eee3658",
   "metadata": {},
   "outputs": [],
   "source": []
  }
 ],
 "metadata": {
  "kernelspec": {
   "display_name": "Python [conda env:base] *",
   "language": "python",
   "name": "conda-base-py"
  },
  "language_info": {
   "codemirror_mode": {
    "name": "ipython",
    "version": 3
   },
   "file_extension": ".py",
   "mimetype": "text/x-python",
   "name": "python",
   "nbconvert_exporter": "python",
   "pygments_lexer": "ipython3",
   "version": "3.12.7"
  }
 },
 "nbformat": 4,
 "nbformat_minor": 5
}
